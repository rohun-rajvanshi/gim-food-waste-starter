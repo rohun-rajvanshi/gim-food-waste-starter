{
  "cells": [
    {
      "cell_type": "markdown",
      "metadata": {
        "id": "FY6qgI8Z0lIv"
      },
      "source": [
        "# GIM Mess Food-Waste Forecasting — Decision Tree Baseline\n",
        "\n",
        "Run this notebook in **Google Colab** to train a simple, explainable model and export plots + model artifacts."
      ],
      "id": "FY6qgI8Z0lIv"
    },
    {
      "cell_type": "code",
      "execution_count": 3,
      "metadata": {
        "id": "setup"
      },
      "outputs": [],
      "source": [
        "# --- Minimal setup ---\n",
        "import pandas as pd\n",
        "import numpy as np\n",
        "import matplotlib.pyplot as plt\n",
        "\n",
        "from sklearn.tree import DecisionTreeRegressor\n",
        "from sklearn.metrics import mean_absolute_error, mean_squared_error, r2_score\n",
        "import joblib, json, io, requests\n",
        "\n",
        "pd.set_option(\"display.max_columns\", 200)\n",
        "\n",
        "# Your GitHub repo (adjust branch if needed)\n",
        "GITHUB_USER = \"rohun-rajvanshi\"\n",
        "REPO        = \"gim-food-waste-starter\"\n",
        "BRANCH      = \"main\"\n",
        "\n",
        "RAW_BASE = f\"https://raw.githubusercontent.com/{GITHUB_USER}/{REPO}/{BRANCH}\"\n",
        "CSV_PATH = \"mess_waste_GIM_500.csv\"     # it's at repo root, per your screenshot\n",
        "CSV_URL  = f\"{RAW_BASE}/{CSV_PATH}\"\n",
        "CSV_ALT  = None  # set to a local filename if you upload manually\n"
      ],
      "id": "setup"
    },
    {
      "cell_type": "code",
      "execution_count": 4,
      "metadata": {
        "id": "load",
        "outputId": "ea7f8959-da14-4fe2-8982-39e6793a0d17",
        "colab": {
          "base_uri": "https://localhost:8080/",
          "height": 399
        }
      },
      "outputs": [
        {
          "output_type": "stream",
          "name": "stdout",
          "text": [
            "Loaded from GitHub: https://raw.githubusercontent.com/rohun-rajvanshi/gim-food-waste-starter/main/mess_waste_GIM_500.csv\n"
          ]
        },
        {
          "output_type": "execute_result",
          "data": {
            "text/plain": [
              "        date day_of_week  is_weekend event_type  event_flag  temp_c  rain_mm  \\\n",
              "0 2024-07-01         Mon           0       Fest           1    28.4     35.1   \n",
              "1 2024-07-02         Tue           0        NaN           0    30.7      0.0   \n",
              "2 2024-07-03         Wed           0       Fest           1    29.3      0.0   \n",
              "3 2024-07-04         Thu           0        NaN           0    29.5     25.9   \n",
              "4 2024-07-05         Fri           0        NaN           0    28.1      0.0   \n",
              "\n",
              "   humidity                              veg_main_dish       nonveg_main_dish  \\\n",
              "0        87               Jeera Rice, Dal Fry, Chapati  Scrambled Eggs/Banana   \n",
              "1        77                      Gravy- Gujarati Kadhi             Fish Kalia   \n",
              "2        78                              Chole Bhature     Bengali Fish Curry   \n",
              "3        82                        Dry- Cabbage Masala             Fish Kalia   \n",
              "4        79  Moong Dal Chilla, Curd, Coriander Chutney        Egg Roast Curry   \n",
              "\n",
              "                 dessert  sweet_type  cooked_kg  consumed_kg  food_waste_kg  \n",
              "0  Bread Pakoda, Ketchup       Fried     410.16       405.44           5.91  \n",
              "1  Bread Pakoda, Ketchup       Fried     408.56       396.67          12.84  \n",
              "2                 Imarti       Fried     426.69       434.52           0.00  \n",
              "3          Fruit Custard  Milk-based     392.02       378.99          12.93  \n",
              "4             Mysore Pak       Fried     422.19       407.86          14.70  "
            ],
            "text/html": [
              "\n",
              "  <div id=\"df-3ae036cd-6a22-4058-8bfc-7d291c552779\" class=\"colab-df-container\">\n",
              "    <div>\n",
              "<style scoped>\n",
              "    .dataframe tbody tr th:only-of-type {\n",
              "        vertical-align: middle;\n",
              "    }\n",
              "\n",
              "    .dataframe tbody tr th {\n",
              "        vertical-align: top;\n",
              "    }\n",
              "\n",
              "    .dataframe thead th {\n",
              "        text-align: right;\n",
              "    }\n",
              "</style>\n",
              "<table border=\"1\" class=\"dataframe\">\n",
              "  <thead>\n",
              "    <tr style=\"text-align: right;\">\n",
              "      <th></th>\n",
              "      <th>date</th>\n",
              "      <th>day_of_week</th>\n",
              "      <th>is_weekend</th>\n",
              "      <th>event_type</th>\n",
              "      <th>event_flag</th>\n",
              "      <th>temp_c</th>\n",
              "      <th>rain_mm</th>\n",
              "      <th>humidity</th>\n",
              "      <th>veg_main_dish</th>\n",
              "      <th>nonveg_main_dish</th>\n",
              "      <th>dessert</th>\n",
              "      <th>sweet_type</th>\n",
              "      <th>cooked_kg</th>\n",
              "      <th>consumed_kg</th>\n",
              "      <th>food_waste_kg</th>\n",
              "    </tr>\n",
              "  </thead>\n",
              "  <tbody>\n",
              "    <tr>\n",
              "      <th>0</th>\n",
              "      <td>2024-07-01</td>\n",
              "      <td>Mon</td>\n",
              "      <td>0</td>\n",
              "      <td>Fest</td>\n",
              "      <td>1</td>\n",
              "      <td>28.4</td>\n",
              "      <td>35.1</td>\n",
              "      <td>87</td>\n",
              "      <td>Jeera Rice, Dal Fry, Chapati</td>\n",
              "      <td>Scrambled Eggs/Banana</td>\n",
              "      <td>Bread Pakoda, Ketchup</td>\n",
              "      <td>Fried</td>\n",
              "      <td>410.16</td>\n",
              "      <td>405.44</td>\n",
              "      <td>5.91</td>\n",
              "    </tr>\n",
              "    <tr>\n",
              "      <th>1</th>\n",
              "      <td>2024-07-02</td>\n",
              "      <td>Tue</td>\n",
              "      <td>0</td>\n",
              "      <td>NaN</td>\n",
              "      <td>0</td>\n",
              "      <td>30.7</td>\n",
              "      <td>0.0</td>\n",
              "      <td>77</td>\n",
              "      <td>Gravy- Gujarati Kadhi</td>\n",
              "      <td>Fish Kalia</td>\n",
              "      <td>Bread Pakoda, Ketchup</td>\n",
              "      <td>Fried</td>\n",
              "      <td>408.56</td>\n",
              "      <td>396.67</td>\n",
              "      <td>12.84</td>\n",
              "    </tr>\n",
              "    <tr>\n",
              "      <th>2</th>\n",
              "      <td>2024-07-03</td>\n",
              "      <td>Wed</td>\n",
              "      <td>0</td>\n",
              "      <td>Fest</td>\n",
              "      <td>1</td>\n",
              "      <td>29.3</td>\n",
              "      <td>0.0</td>\n",
              "      <td>78</td>\n",
              "      <td>Chole Bhature</td>\n",
              "      <td>Bengali Fish Curry</td>\n",
              "      <td>Imarti</td>\n",
              "      <td>Fried</td>\n",
              "      <td>426.69</td>\n",
              "      <td>434.52</td>\n",
              "      <td>0.00</td>\n",
              "    </tr>\n",
              "    <tr>\n",
              "      <th>3</th>\n",
              "      <td>2024-07-04</td>\n",
              "      <td>Thu</td>\n",
              "      <td>0</td>\n",
              "      <td>NaN</td>\n",
              "      <td>0</td>\n",
              "      <td>29.5</td>\n",
              "      <td>25.9</td>\n",
              "      <td>82</td>\n",
              "      <td>Dry- Cabbage Masala</td>\n",
              "      <td>Fish Kalia</td>\n",
              "      <td>Fruit Custard</td>\n",
              "      <td>Milk-based</td>\n",
              "      <td>392.02</td>\n",
              "      <td>378.99</td>\n",
              "      <td>12.93</td>\n",
              "    </tr>\n",
              "    <tr>\n",
              "      <th>4</th>\n",
              "      <td>2024-07-05</td>\n",
              "      <td>Fri</td>\n",
              "      <td>0</td>\n",
              "      <td>NaN</td>\n",
              "      <td>0</td>\n",
              "      <td>28.1</td>\n",
              "      <td>0.0</td>\n",
              "      <td>79</td>\n",
              "      <td>Moong Dal Chilla, Curd, Coriander Chutney</td>\n",
              "      <td>Egg Roast Curry</td>\n",
              "      <td>Mysore Pak</td>\n",
              "      <td>Fried</td>\n",
              "      <td>422.19</td>\n",
              "      <td>407.86</td>\n",
              "      <td>14.70</td>\n",
              "    </tr>\n",
              "  </tbody>\n",
              "</table>\n",
              "</div>\n",
              "    <div class=\"colab-df-buttons\">\n",
              "\n",
              "  <div class=\"colab-df-container\">\n",
              "    <button class=\"colab-df-convert\" onclick=\"convertToInteractive('df-3ae036cd-6a22-4058-8bfc-7d291c552779')\"\n",
              "            title=\"Convert this dataframe to an interactive table.\"\n",
              "            style=\"display:none;\">\n",
              "\n",
              "  <svg xmlns=\"http://www.w3.org/2000/svg\" height=\"24px\" viewBox=\"0 -960 960 960\">\n",
              "    <path d=\"M120-120v-720h720v720H120Zm60-500h600v-160H180v160Zm220 220h160v-160H400v160Zm0 220h160v-160H400v160ZM180-400h160v-160H180v160Zm440 0h160v-160H620v160ZM180-180h160v-160H180v160Zm440 0h160v-160H620v160Z\"/>\n",
              "  </svg>\n",
              "    </button>\n",
              "\n",
              "  <style>\n",
              "    .colab-df-container {\n",
              "      display:flex;\n",
              "      gap: 12px;\n",
              "    }\n",
              "\n",
              "    .colab-df-convert {\n",
              "      background-color: #E8F0FE;\n",
              "      border: none;\n",
              "      border-radius: 50%;\n",
              "      cursor: pointer;\n",
              "      display: none;\n",
              "      fill: #1967D2;\n",
              "      height: 32px;\n",
              "      padding: 0 0 0 0;\n",
              "      width: 32px;\n",
              "    }\n",
              "\n",
              "    .colab-df-convert:hover {\n",
              "      background-color: #E2EBFA;\n",
              "      box-shadow: 0px 1px 2px rgba(60, 64, 67, 0.3), 0px 1px 3px 1px rgba(60, 64, 67, 0.15);\n",
              "      fill: #174EA6;\n",
              "    }\n",
              "\n",
              "    .colab-df-buttons div {\n",
              "      margin-bottom: 4px;\n",
              "    }\n",
              "\n",
              "    [theme=dark] .colab-df-convert {\n",
              "      background-color: #3B4455;\n",
              "      fill: #D2E3FC;\n",
              "    }\n",
              "\n",
              "    [theme=dark] .colab-df-convert:hover {\n",
              "      background-color: #434B5C;\n",
              "      box-shadow: 0px 1px 3px 1px rgba(0, 0, 0, 0.15);\n",
              "      filter: drop-shadow(0px 1px 2px rgba(0, 0, 0, 0.3));\n",
              "      fill: #FFFFFF;\n",
              "    }\n",
              "  </style>\n",
              "\n",
              "    <script>\n",
              "      const buttonEl =\n",
              "        document.querySelector('#df-3ae036cd-6a22-4058-8bfc-7d291c552779 button.colab-df-convert');\n",
              "      buttonEl.style.display =\n",
              "        google.colab.kernel.accessAllowed ? 'block' : 'none';\n",
              "\n",
              "      async function convertToInteractive(key) {\n",
              "        const element = document.querySelector('#df-3ae036cd-6a22-4058-8bfc-7d291c552779');\n",
              "        const dataTable =\n",
              "          await google.colab.kernel.invokeFunction('convertToInteractive',\n",
              "                                                    [key], {});\n",
              "        if (!dataTable) return;\n",
              "\n",
              "        const docLinkHtml = 'Like what you see? Visit the ' +\n",
              "          '<a target=\"_blank\" href=https://colab.research.google.com/notebooks/data_table.ipynb>data table notebook</a>'\n",
              "          + ' to learn more about interactive tables.';\n",
              "        element.innerHTML = '';\n",
              "        dataTable['output_type'] = 'display_data';\n",
              "        await google.colab.output.renderOutput(dataTable, element);\n",
              "        const docLink = document.createElement('div');\n",
              "        docLink.innerHTML = docLinkHtml;\n",
              "        element.appendChild(docLink);\n",
              "      }\n",
              "    </script>\n",
              "  </div>\n",
              "\n",
              "\n",
              "    <div id=\"df-11815886-9ec0-4f97-949f-fcda24cbf9d2\">\n",
              "      <button class=\"colab-df-quickchart\" onclick=\"quickchart('df-11815886-9ec0-4f97-949f-fcda24cbf9d2')\"\n",
              "                title=\"Suggest charts\"\n",
              "                style=\"display:none;\">\n",
              "\n",
              "<svg xmlns=\"http://www.w3.org/2000/svg\" height=\"24px\"viewBox=\"0 0 24 24\"\n",
              "     width=\"24px\">\n",
              "    <g>\n",
              "        <path d=\"M19 3H5c-1.1 0-2 .9-2 2v14c0 1.1.9 2 2 2h14c1.1 0 2-.9 2-2V5c0-1.1-.9-2-2-2zM9 17H7v-7h2v7zm4 0h-2V7h2v10zm4 0h-2v-4h2v4z\"/>\n",
              "    </g>\n",
              "</svg>\n",
              "      </button>\n",
              "\n",
              "<style>\n",
              "  .colab-df-quickchart {\n",
              "      --bg-color: #E8F0FE;\n",
              "      --fill-color: #1967D2;\n",
              "      --hover-bg-color: #E2EBFA;\n",
              "      --hover-fill-color: #174EA6;\n",
              "      --disabled-fill-color: #AAA;\n",
              "      --disabled-bg-color: #DDD;\n",
              "  }\n",
              "\n",
              "  [theme=dark] .colab-df-quickchart {\n",
              "      --bg-color: #3B4455;\n",
              "      --fill-color: #D2E3FC;\n",
              "      --hover-bg-color: #434B5C;\n",
              "      --hover-fill-color: #FFFFFF;\n",
              "      --disabled-bg-color: #3B4455;\n",
              "      --disabled-fill-color: #666;\n",
              "  }\n",
              "\n",
              "  .colab-df-quickchart {\n",
              "    background-color: var(--bg-color);\n",
              "    border: none;\n",
              "    border-radius: 50%;\n",
              "    cursor: pointer;\n",
              "    display: none;\n",
              "    fill: var(--fill-color);\n",
              "    height: 32px;\n",
              "    padding: 0;\n",
              "    width: 32px;\n",
              "  }\n",
              "\n",
              "  .colab-df-quickchart:hover {\n",
              "    background-color: var(--hover-bg-color);\n",
              "    box-shadow: 0 1px 2px rgba(60, 64, 67, 0.3), 0 1px 3px 1px rgba(60, 64, 67, 0.15);\n",
              "    fill: var(--button-hover-fill-color);\n",
              "  }\n",
              "\n",
              "  .colab-df-quickchart-complete:disabled,\n",
              "  .colab-df-quickchart-complete:disabled:hover {\n",
              "    background-color: var(--disabled-bg-color);\n",
              "    fill: var(--disabled-fill-color);\n",
              "    box-shadow: none;\n",
              "  }\n",
              "\n",
              "  .colab-df-spinner {\n",
              "    border: 2px solid var(--fill-color);\n",
              "    border-color: transparent;\n",
              "    border-bottom-color: var(--fill-color);\n",
              "    animation:\n",
              "      spin 1s steps(1) infinite;\n",
              "  }\n",
              "\n",
              "  @keyframes spin {\n",
              "    0% {\n",
              "      border-color: transparent;\n",
              "      border-bottom-color: var(--fill-color);\n",
              "      border-left-color: var(--fill-color);\n",
              "    }\n",
              "    20% {\n",
              "      border-color: transparent;\n",
              "      border-left-color: var(--fill-color);\n",
              "      border-top-color: var(--fill-color);\n",
              "    }\n",
              "    30% {\n",
              "      border-color: transparent;\n",
              "      border-left-color: var(--fill-color);\n",
              "      border-top-color: var(--fill-color);\n",
              "      border-right-color: var(--fill-color);\n",
              "    }\n",
              "    40% {\n",
              "      border-color: transparent;\n",
              "      border-right-color: var(--fill-color);\n",
              "      border-top-color: var(--fill-color);\n",
              "    }\n",
              "    60% {\n",
              "      border-color: transparent;\n",
              "      border-right-color: var(--fill-color);\n",
              "    }\n",
              "    80% {\n",
              "      border-color: transparent;\n",
              "      border-right-color: var(--fill-color);\n",
              "      border-bottom-color: var(--fill-color);\n",
              "    }\n",
              "    90% {\n",
              "      border-color: transparent;\n",
              "      border-bottom-color: var(--fill-color);\n",
              "    }\n",
              "  }\n",
              "</style>\n",
              "\n",
              "      <script>\n",
              "        async function quickchart(key) {\n",
              "          const quickchartButtonEl =\n",
              "            document.querySelector('#' + key + ' button');\n",
              "          quickchartButtonEl.disabled = true;  // To prevent multiple clicks.\n",
              "          quickchartButtonEl.classList.add('colab-df-spinner');\n",
              "          try {\n",
              "            const charts = await google.colab.kernel.invokeFunction(\n",
              "                'suggestCharts', [key], {});\n",
              "          } catch (error) {\n",
              "            console.error('Error during call to suggestCharts:', error);\n",
              "          }\n",
              "          quickchartButtonEl.classList.remove('colab-df-spinner');\n",
              "          quickchartButtonEl.classList.add('colab-df-quickchart-complete');\n",
              "        }\n",
              "        (() => {\n",
              "          let quickchartButtonEl =\n",
              "            document.querySelector('#df-11815886-9ec0-4f97-949f-fcda24cbf9d2 button');\n",
              "          quickchartButtonEl.style.display =\n",
              "            google.colab.kernel.accessAllowed ? 'block' : 'none';\n",
              "        })();\n",
              "      </script>\n",
              "    </div>\n",
              "\n",
              "    </div>\n",
              "  </div>\n"
            ],
            "application/vnd.google.colaboratory.intrinsic+json": {
              "type": "dataframe",
              "variable_name": "df",
              "summary": "{\n  \"name\": \"df\",\n  \"rows\": 500,\n  \"fields\": [\n    {\n      \"column\": \"date\",\n      \"properties\": {\n        \"dtype\": \"date\",\n        \"min\": \"2024-07-01 00:00:00\",\n        \"max\": \"2025-11-12 00:00:00\",\n        \"num_unique_values\": 500,\n        \"samples\": [\n          \"2025-06-27 00:00:00\",\n          \"2024-09-12 00:00:00\",\n          \"2025-07-10 00:00:00\"\n        ],\n        \"semantic_type\": \"\",\n        \"description\": \"\"\n      }\n    },\n    {\n      \"column\": \"day_of_week\",\n      \"properties\": {\n        \"dtype\": \"category\",\n        \"num_unique_values\": 7,\n        \"samples\": [\n          \"Mon\",\n          \"Tue\",\n          \"Sat\"\n        ],\n        \"semantic_type\": \"\",\n        \"description\": \"\"\n      }\n    },\n    {\n      \"column\": \"is_weekend\",\n      \"properties\": {\n        \"dtype\": \"number\",\n        \"std\": 0,\n        \"min\": 0,\n        \"max\": 1,\n        \"num_unique_values\": 2,\n        \"samples\": [\n          1,\n          0\n        ],\n        \"semantic_type\": \"\",\n        \"description\": \"\"\n      }\n    },\n    {\n      \"column\": \"event_type\",\n      \"properties\": {\n        \"dtype\": \"category\",\n        \"num_unique_values\": 4,\n        \"samples\": [\n          \"Holiday\",\n          \"Exam\"\n        ],\n        \"semantic_type\": \"\",\n        \"description\": \"\"\n      }\n    },\n    {\n      \"column\": \"event_flag\",\n      \"properties\": {\n        \"dtype\": \"number\",\n        \"std\": 0,\n        \"min\": 0,\n        \"max\": 1,\n        \"num_unique_values\": 2,\n        \"samples\": [\n          0,\n          1\n        ],\n        \"semantic_type\": \"\",\n        \"description\": \"\"\n      }\n    },\n    {\n      \"column\": \"temp_c\",\n      \"properties\": {\n        \"dtype\": \"number\",\n        \"std\": 0.8704569780876046,\n        \"min\": 26.2,\n        \"max\": 31.4,\n        \"num_unique_values\": 48,\n        \"samples\": [\n          30.2,\n          31.4\n        ],\n        \"semantic_type\": \"\",\n        \"description\": \"\"\n      }\n    },\n    {\n      \"column\": \"rain_mm\",\n      \"properties\": {\n        \"dtype\": \"number\",\n        \"std\": 13.58521210050225,\n        \"min\": 0.0,\n        \"max\": 94.0,\n        \"num_unique_values\": 163,\n        \"samples\": [\n          20.7,\n          94.0\n        ],\n        \"semantic_type\": \"\",\n        \"description\": \"\"\n      }\n    },\n    {\n      \"column\": \"humidity\",\n      \"properties\": {\n        \"dtype\": \"number\",\n        \"std\": 3,\n        \"min\": 68,\n        \"max\": 87,\n        \"num_unique_values\": 20,\n        \"samples\": [\n          87,\n          72\n        ],\n        \"semantic_type\": \"\",\n        \"description\": \"\"\n      }\n    },\n    {\n      \"column\": \"veg_main_dish\",\n      \"properties\": {\n        \"dtype\": \"category\",\n        \"num_unique_values\": 49,\n        \"samples\": [\n          \"Dry- Bhindi Masala\",\n          \"Dry - Lobia Masala\"\n        ],\n        \"semantic_type\": \"\",\n        \"description\": \"\"\n      }\n    },\n    {\n      \"column\": \"nonveg_main_dish\",\n      \"properties\": {\n        \"dtype\": \"category\",\n        \"num_unique_values\": 14,\n        \"samples\": [\n          \"Chicken Zafrani Biryani, Mirchi Ka Saalan\",\n          \"Egg Kosha\"\n        ],\n        \"semantic_type\": \"\",\n        \"description\": \"\"\n      }\n    },\n    {\n      \"column\": \"dessert\",\n      \"properties\": {\n        \"dtype\": \"category\",\n        \"num_unique_values\": 15,\n        \"samples\": [\n          \"Ras Malai\",\n          \"Sheera\"\n        ],\n        \"semantic_type\": \"\",\n        \"description\": \"\"\n      }\n    },\n    {\n      \"column\": \"sweet_type\",\n      \"properties\": {\n        \"dtype\": \"category\",\n        \"num_unique_values\": 3,\n        \"samples\": [\n          \"Fried\",\n          \"Milk-based\"\n        ],\n        \"semantic_type\": \"\",\n        \"description\": \"\"\n      }\n    },\n    {\n      \"column\": \"cooked_kg\",\n      \"properties\": {\n        \"dtype\": \"number\",\n        \"std\": 19.397528508262532,\n        \"min\": 329.18,\n        \"max\": 462.32,\n        \"num_unique_values\": 488,\n        \"samples\": [\n          395.55,\n          412.33\n        ],\n        \"semantic_type\": \"\",\n        \"description\": \"\"\n      }\n    },\n    {\n      \"column\": \"consumed_kg\",\n      \"properties\": {\n        \"dtype\": \"number\",\n        \"std\": 33.86075236703583,\n        \"min\": 261.53,\n        \"max\": 468.92,\n        \"num_unique_values\": 489,\n        \"samples\": [\n          365.3,\n          367.81\n        ],\n        \"semantic_type\": \"\",\n        \"description\": \"\"\n      }\n    },\n    {\n      \"column\": \"food_waste_kg\",\n      \"properties\": {\n        \"dtype\": \"number\",\n        \"std\": 16.627975891373218,\n        \"min\": 0.0,\n        \"max\": 82.41,\n        \"num_unique_values\": 377,\n        \"samples\": [\n          14.51,\n          6.98\n        ],\n        \"semantic_type\": \"\",\n        \"description\": \"\"\n      }\n    }\n  ]\n}"
            }
          },
          "metadata": {},
          "execution_count": 4
        }
      ],
      "source": [
        "def load_csv(csv_url, csv_alt=None):\n",
        "    try:\n",
        "        df = pd.read_csv(csv_url, parse_dates=['date'])\n",
        "        print(\"Loaded from GitHub:\", csv_url)\n",
        "        return df\n",
        "    except Exception as e:\n",
        "        print(\"GitHub load failed:\", e)\n",
        "\n",
        "    if csv_alt is not None:\n",
        "        try:\n",
        "            df = pd.read_csv(csv_alt, parse_dates=['date'])\n",
        "            print(\"Loaded local file:\", csv_alt)\n",
        "            return df\n",
        "        except Exception as e:\n",
        "            print(\"Local load failed:\", e)\n",
        "\n",
        "    # Last resort: manual upload\n",
        "    from google.colab import files\n",
        "    print(\"Upload your CSV (pick mess_waste_GIM_500.csv)\")\n",
        "    uploaded = files.upload()\n",
        "    name = list(uploaded.keys())[0]\n",
        "    return pd.read_csv(name, parse_dates=['date'])\n",
        "\n",
        "df = load_csv(CSV_URL, CSV_ALT).sort_values('date').reset_index(drop=True)\n",
        "df.head()\n"
      ],
      "id": "load"
    },
    {
      "cell_type": "code",
      "execution_count": 5,
      "metadata": {
        "id": "feats",
        "outputId": "fe9f0d2b-e013-41f9-cb2d-40f6b346e19c",
        "colab": {
          "base_uri": "https://localhost:8080/"
        }
      },
      "outputs": [
        {
          "output_type": "execute_result",
          "data": {
            "text/plain": [
              "(499,\n",
              "    cooked_kg  temp_c  rain_mm  humidity  is_weekend  is_exam  is_holiday  \\\n",
              " 0     408.56    30.7      0.0        77           0        0           0   \n",
              " 1     426.69    29.3      0.0        78           0        0           0   \n",
              " 2     392.02    29.5     25.9        82           0        0           0   \n",
              " \n",
              "    is_fest  sweet_milk  sweet_fried  sweet_halwa  yesterday_waste  \n",
              " 0        0           0            1            0             5.91  \n",
              " 1        1           0            1            0            12.84  \n",
              " 2        0           1            0            0             0.00  )"
            ]
          },
          "metadata": {},
          "execution_count": 5
        }
      ],
      "source": [
        "df2 = df.copy()\n",
        "\n",
        "# Event flags\n",
        "df2['is_exam']    = (df2['event_type'] == 'Exam').astype(int)\n",
        "df2['is_holiday'] = (df2['event_type'] == 'Holiday').astype(int)\n",
        "df2['is_fest']    = (df2['event_type'] == 'Fest').astype(int)\n",
        "\n",
        "# Dessert flags (baseline = Other)\n",
        "df2['sweet_milk']  = (df2['sweet_type'] == 'Milk-based').astype(int)\n",
        "df2['sweet_fried'] = (df2['sweet_type'] == 'Fried').astype(int)\n",
        "df2['sweet_halwa'] = (df2['sweet_type'] == 'Halwa-type').astype(int)\n",
        "\n",
        "# Yesterday's waste (lag-1)\n",
        "df2['yesterday_waste'] = df2['food_waste_kg'].shift(1)\n",
        "df2 = df2.dropna(subset=['yesterday_waste']).reset_index(drop=True)\n",
        "\n",
        "FEATURES = [\n",
        "    'cooked_kg','temp_c','rain_mm','humidity',\n",
        "    'is_weekend','is_exam','is_holiday','is_fest',\n",
        "    'sweet_milk','sweet_fried','sweet_halwa',\n",
        "    'yesterday_waste'\n",
        "]\n",
        "\n",
        "X = df2[FEATURES]\n",
        "y = df2['food_waste_kg']\n",
        "len(X), X.head(3)\n"
      ],
      "id": "feats"
    },
    {
      "cell_type": "code",
      "execution_count": 6,
      "metadata": {
        "id": "split",
        "outputId": "431da2e8-6669-47ab-84a7-5fda7728488e",
        "colab": {
          "base_uri": "https://localhost:8080/"
        }
      },
      "outputs": [
        {
          "output_type": "stream",
          "name": "stdout",
          "text": [
            "349 75 75\n"
          ]
        }
      ],
      "source": [
        "n = len(df2)\n",
        "i_tr = int(0.70*n)\n",
        "i_va = int(0.85*n)\n",
        "\n",
        "X_train, y_train = X.iloc[:i_tr], y.iloc[:i_tr]\n",
        "X_val,   y_val   = X.iloc[i_tr:i_va], y.iloc[i_tr:i_va]\n",
        "X_test,  y_test  = X.iloc[i_va:], y.iloc[i_va:]\n",
        "dates_test = df2['date'].iloc[i_va:]\n",
        "\n",
        "print(len(X_train), len(X_val), len(X_test))\n"
      ],
      "id": "split"
    },
    {
      "cell_type": "code",
      "execution_count": 8,
      "metadata": {
        "id": "train",
        "outputId": "e5f2a9b5-e869-46a4-c720-ac00f8fed38b",
        "colab": {
          "base_uri": "https://localhost:8080/"
        }
      },
      "outputs": [
        {
          "output_type": "stream",
          "name": "stdout",
          "text": [
            "Best (val) settings: {'max_depth': 5, 'min_samples_leaf': 1, 'MAE': 6.66}\n",
            "Test (best tree md=5, msl=1): MAE=6.40 kg | RMSE=8.10 kg | R²=0.786\n"
          ]
        },
        {
          "output_type": "execute_result",
          "data": {
            "text/plain": [
              "{'MAE': 6.398675408669806, 'RMSE': 8.098453696701663, 'R2': 0.7863090664755418}"
            ]
          },
          "metadata": {},
          "execution_count": 8
        }
      ],
      "source": [
        "from sklearn.tree import DecisionTreeRegressor\n",
        "from sklearn.metrics import mean_absolute_error, mean_squared_error, r2_score\n",
        "import numpy as np\n",
        "import pandas as pd\n",
        "\n",
        "def eval_block(y_true, y_hat, name):\n",
        "    mae  = mean_absolute_error(y_true, y_hat)\n",
        "    # Compat: some sklearn versions don't support `squared=False`\n",
        "    rmse = np.sqrt(mean_squared_error(y_true, y_hat))\n",
        "    r2   = r2_score(y_true, y_hat)\n",
        "    print(f\"{name}: MAE={mae:.2f} kg | RMSE={rmse:.2f} kg | R²={r2:.3f}\")\n",
        "    return {\"MAE\": float(mae), \"RMSE\": float(rmse), \"R2\": float(r2)}\n",
        "\n",
        "# quick sweep for (max_depth, min_samples_leaf)\n",
        "candidates = []\n",
        "for md in [3,4,5,6,7]:\n",
        "    for msl in [1,2,3,5]:\n",
        "        m = DecisionTreeRegressor(max_depth=md, min_samples_leaf=msl, random_state=42)\n",
        "        m.fit(X_train, y_train)\n",
        "        mae = mean_absolute_error(y_val, m.predict(X_val))\n",
        "        candidates.append((mae, md, msl))\n",
        "\n",
        "best_mae, best_md, best_msl = sorted(candidates)[0]\n",
        "print(\"Best (val) settings:\", dict(max_depth=best_md, min_samples_leaf=best_msl, MAE=round(best_mae,2)))\n",
        "\n",
        "best_tree = DecisionTreeRegressor(max_depth=best_md, min_samples_leaf=best_msl, random_state=42)\n",
        "best_tree.fit(pd.concat([X_train, X_val]), pd.concat([y_train, y_val]))\n",
        "\n",
        "test_pred = best_tree.predict(X_test)\n",
        "metrics = eval_block(y_test, test_pred, f\"Test (best tree md={best_md}, msl={best_msl})\")\n",
        "metrics\n"
      ],
      "id": "train"
    },
    {
      "cell_type": "code",
      "execution_count": 9,
      "metadata": {
        "id": "plots",
        "outputId": "1dd829de-02ff-4b00-8270-0537ccf7b04a",
        "colab": {
          "base_uri": "https://localhost:8080/",
          "height": 997
        }
      },
      "outputs": [
        {
          "output_type": "display_data",
          "data": {
            "text/plain": [
              "<Figure size 1200x400 with 1 Axes>"
            ],
            "image/png": "[encoded data removed]"
          },
          "metadata": {}
        },
        {
          "output_type": "display_data",
          "data": {
            "text/plain": [
              "<Figure size 700x600 with 1 Axes>"
            ],
            "image/png": "[encoded data removed]"
          },
          "metadata": {}
        }
      ],
      "source": [
        "# Actual vs Predicted\n",
        "plt.figure(figsize=(12,4))\n",
        "plt.plot(dates_test, y_test.values, label=\"Actual\", linewidth=2)\n",
        "plt.plot(dates_test, test_pred, label=\"DecisionTree\", alpha=0.9)\n",
        "plt.title(\"Daily Food Waste — Actual vs Predicted\")\n",
        "plt.xlabel(\"Date\"); plt.ylabel(\"kg\")\n",
        "plt.grid(True); plt.legend(); plt.tight_layout()\n",
        "plt.savefig(\"fig_avp.png\", dpi=150)\n",
        "plt.show()\n",
        "\n",
        "# Feature importance\n",
        "imp = pd.Series(best_tree.feature_importances_, index=FEATURES).sort_values(ascending=True)\n",
        "plt.figure(figsize=(7,6))\n",
        "imp.plot(kind='barh')\n",
        "plt.title(\"Decision Tree — Feature Importance\")\n",
        "plt.tight_layout()\n",
        "plt.savefig(\"fig_importance.png\", dpi=150)\n",
        "plt.show()\n"
      ],
      "id": "plots"
    },
    {
      "cell_type": "code",
      "execution_count": 10,
      "metadata": {
        "id": "save",
        "outputId": "86d9ae85-044d-4ec7-908c-78d9a12b75b1",
        "colab": {
          "base_uri": "https://localhost:8080/",
          "height": 34
        }
      },
      "outputs": [
        {
          "output_type": "stream",
          "name": "stdout",
          "text": [
            "Saved: gim_tree_model.joblib, metrics.json, feature_columns.json, fig_avp.png, fig_importance.png\n"
          ]
        },
        {
          "output_type": "display_data",
          "data": {
            "text/plain": [
              "<IPython.core.display.Javascript object>"
            ],
            "application/javascript": [
              "\n",
              "    async function download(id, filename, size) {\n",
              "      if (!google.colab.kernel.accessAllowed) {\n",
              "        return;\n",
              "      }\n",
              "      const div = document.createElement('div');\n",
              "      const label = document.createElement('label');\n",
              "      label.textContent = `Downloading \"${filename}\": `;\n",
              "      div.appendChild(label);\n",
              "      const progress = document.createElement('progress');\n",
              "      progress.max = size;\n",
              "      div.appendChild(progress);\n",
              "      document.body.appendChild(div);\n",
              "\n",
              "      const buffers = [];\n",
              "      let downloaded = 0;\n",
              "\n",
              "      const channel = await google.colab.kernel.comms.open(id);\n",
              "      // Send a message to notify the kernel that we're ready.\n",
              "      channel.send({})\n",
              "\n",
              "      for await (const message of channel.messages) {\n",
              "        // Send a message to notify the kernel that we're ready.\n",
              "        channel.send({})\n",
              "        if (message.buffers) {\n",
              "          for (const buffer of message.buffers) {\n",
              "            buffers.push(buffer);\n",
              "            downloaded += buffer.byteLength;\n",
              "            progress.value = downloaded;\n",
              "          }\n",
              "        }\n",
              "      }\n",
              "      const blob = new Blob(buffers, {type: 'application/binary'});\n",
              "      const a = document.createElement('a');\n",
              "      a.href = window.URL.createObjectURL(blob);\n",
              "      a.download = filename;\n",
              "      div.appendChild(a);\n",
              "      a.click();\n",
              "      div.remove();\n",
              "    }\n",
              "  "
            ]
          },
          "metadata": {}
        },
        {
          "output_type": "display_data",
          "data": {
            "text/plain": [
              "<IPython.core.display.Javascript object>"
            ],
            "application/javascript": [
              "download(\"download_19f4567a-fb81-4e96-a347-00342451b345\", \"gim_tree_model.joblib\", 5411)"
            ]
          },
          "metadata": {}
        },
        {
          "output_type": "display_data",
          "data": {
            "text/plain": [
              "<IPython.core.display.Javascript object>"
            ],
            "application/javascript": [
              "\n",
              "    async function download(id, filename, size) {\n",
              "      if (!google.colab.kernel.accessAllowed) {\n",
              "        return;\n",
              "      }\n",
              "      const div = document.createElement('div');\n",
              "      const label = document.createElement('label');\n",
              "      label.textContent = `Downloading \"${filename}\": `;\n",
              "      div.appendChild(label);\n",
              "      const progress = document.createElement('progress');\n",
              "      progress.max = size;\n",
              "      div.appendChild(progress);\n",
              "      document.body.appendChild(div);\n",
              "\n",
              "      const buffers = [];\n",
              "      let downloaded = 0;\n",
              "\n",
              "      const channel = await google.colab.kernel.comms.open(id);\n",
              "      // Send a message to notify the kernel that we're ready.\n",
              "      channel.send({})\n",
              "\n",
              "      for await (const message of channel.messages) {\n",
              "        // Send a message to notify the kernel that we're ready.\n",
              "        channel.send({})\n",
              "        if (message.buffers) {\n",
              "          for (const buffer of message.buffers) {\n",
              "            buffers.push(buffer);\n",
              "            downloaded += buffer.byteLength;\n",
              "            progress.value = downloaded;\n",
              "          }\n",
              "        }\n",
              "      }\n",
              "      const blob = new Blob(buffers, {type: 'application/binary'});\n",
              "      const a = document.createElement('a');\n",
              "      a.href = window.URL.createObjectURL(blob);\n",
              "      a.download = filename;\n",
              "      div.appendChild(a);\n",
              "      a.click();\n",
              "      div.remove();\n",
              "    }\n",
              "  "
            ]
          },
          "metadata": {}
        },
        {
          "output_type": "display_data",
          "data": {
            "text/plain": [
              "<IPython.core.display.Javascript object>"
            ],
            "application/javascript": [
              "download(\"download_700451ee-fd40-42db-b2a7-2c96409d5b87\", \"metrics.json\", 87)"
            ]
          },
          "metadata": {}
        },
        {
          "output_type": "display_data",
          "data": {
            "text/plain": [
              "<IPython.core.display.Javascript object>"
            ],
            "application/javascript": [
              "\n",
              "    async function download(id, filename, size) {\n",
              "      if (!google.colab.kernel.accessAllowed) {\n",
              "        return;\n",
              "      }\n",
              "      const div = document.createElement('div');\n",
              "      const label = document.createElement('label');\n",
              "      label.textContent = `Downloading \"${filename}\": `;\n",
              "      div.appendChild(label);\n",
              "      const progress = document.createElement('progress');\n",
              "      progress.max = size;\n",
              "      div.appendChild(progress);\n",
              "      document.body.appendChild(div);\n",
              "\n",
              "      const buffers = [];\n",
              "      let downloaded = 0;\n",
              "\n",
              "      const channel = await google.colab.kernel.comms.open(id);\n",
              "      // Send a message to notify the kernel that we're ready.\n",
              "      channel.send({})\n",
              "\n",
              "      for await (const message of channel.messages) {\n",
              "        // Send a message to notify the kernel that we're ready.\n",
              "        channel.send({})\n",
              "        if (message.buffers) {\n",
              "          for (const buffer of message.buffers) {\n",
              "            buffers.push(buffer);\n",
              "            downloaded += buffer.byteLength;\n",
              "            progress.value = downloaded;\n",
              "          }\n",
              "        }\n",
              "      }\n",
              "      const blob = new Blob(buffers, {type: 'application/binary'});\n",
              "      const a = document.createElement('a');\n",
              "      a.href = window.URL.createObjectURL(blob);\n",
              "      a.download = filename;\n",
              "      div.appendChild(a);\n",
              "      a.click();\n",
              "      div.remove();\n",
              "    }\n",
              "  "
            ]
          },
          "metadata": {}
        },
        {
          "output_type": "display_data",
          "data": {
            "text/plain": [
              "<IPython.core.display.Javascript object>"
            ],
            "application/javascript": [
              "download(\"download_20d054cb-8267-4abb-9861-b8d62d18be2f\", \"feature_columns.json\", 185)"
            ]
          },
          "metadata": {}
        },
        {
          "output_type": "display_data",
          "data": {
            "text/plain": [
              "<IPython.core.display.Javascript object>"
            ],
            "application/javascript": [
              "\n",
              "    async function download(id, filename, size) {\n",
              "      if (!google.colab.kernel.accessAllowed) {\n",
              "        return;\n",
              "      }\n",
              "      const div = document.createElement('div');\n",
              "      const label = document.createElement('label');\n",
              "      label.textContent = `Downloading \"${filename}\": `;\n",
              "      div.appendChild(label);\n",
              "      const progress = document.createElement('progress');\n",
              "      progress.max = size;\n",
              "      div.appendChild(progress);\n",
              "      document.body.appendChild(div);\n",
              "\n",
              "      const buffers = [];\n",
              "      let downloaded = 0;\n",
              "\n",
              "      const channel = await google.colab.kernel.comms.open(id);\n",
              "      // Send a message to notify the kernel that we're ready.\n",
              "      channel.send({})\n",
              "\n",
              "      for await (const message of channel.messages) {\n",
              "        // Send a message to notify the kernel that we're ready.\n",
              "        channel.send({})\n",
              "        if (message.buffers) {\n",
              "          for (const buffer of message.buffers) {\n",
              "            buffers.push(buffer);\n",
              "            downloaded += buffer.byteLength;\n",
              "            progress.value = downloaded;\n",
              "          }\n",
              "        }\n",
              "      }\n",
              "      const blob = new Blob(buffers, {type: 'application/binary'});\n",
              "      const a = document.createElement('a');\n",
              "      a.href = window.URL.createObjectURL(blob);\n",
              "      a.download = filename;\n",
              "      div.appendChild(a);\n",
              "      a.click();\n",
              "      div.remove();\n",
              "    }\n",
              "  "
            ]
          },
          "metadata": {}
        },
        {
          "output_type": "display_data",
          "data": {
            "text/plain": [
              "<IPython.core.display.Javascript object>"
            ],
            "application/javascript": [
              "download(\"download_b9f0fe81-b9f4-4059-aad0-37a2babc618b\", \"fig_avp.png\", 120926)"
            ]
          },
          "metadata": {}
        },
        {
          "output_type": "display_data",
          "data": {
            "text/plain": [
              "<IPython.core.display.Javascript object>"
            ],
            "application/javascript": [
              "\n",
              "    async function download(id, filename, size) {\n",
              "      if (!google.colab.kernel.accessAllowed) {\n",
              "        return;\n",
              "      }\n",
              "      const div = document.createElement('div');\n",
              "      const label = document.createElement('label');\n",
              "      label.textContent = `Downloading \"${filename}\": `;\n",
              "      div.appendChild(label);\n",
              "      const progress = document.createElement('progress');\n",
              "      progress.max = size;\n",
              "      div.appendChild(progress);\n",
              "      document.body.appendChild(div);\n",
              "\n",
              "      const buffers = [];\n",
              "      let downloaded = 0;\n",
              "\n",
              "      const channel = await google.colab.kernel.comms.open(id);\n",
              "      // Send a message to notify the kernel that we're ready.\n",
              "      channel.send({})\n",
              "\n",
              "      for await (const message of channel.messages) {\n",
              "        // Send a message to notify the kernel that we're ready.\n",
              "        channel.send({})\n",
              "        if (message.buffers) {\n",
              "          for (const buffer of message.buffers) {\n",
              "            buffers.push(buffer);\n",
              "            downloaded += buffer.byteLength;\n",
              "            progress.value = downloaded;\n",
              "          }\n",
              "        }\n",
              "      }\n",
              "      const blob = new Blob(buffers, {type: 'application/binary'});\n",
              "      const a = document.createElement('a');\n",
              "      a.href = window.URL.createObjectURL(blob);\n",
              "      a.download = filename;\n",
              "      div.appendChild(a);\n",
              "      a.click();\n",
              "      div.remove();\n",
              "    }\n",
              "  "
            ]
          },
          "metadata": {}
        },
        {
          "output_type": "display_data",
          "data": {
            "text/plain": [
              "<IPython.core.display.Javascript object>"
            ],
            "application/javascript": [
              "download(\"download_3b0ccb1d-355f-43ea-b7be-89aa57be437b\", \"fig_importance.png\", 42879)"
            ]
          },
          "metadata": {}
        }
      ],
      "source": [
        "# Save\n",
        "joblib.dump({\"model\": best_tree, \"columns\": FEATURES}, \"gim_tree_model.joblib\")\n",
        "with open(\"metrics.json\",\"w\") as f: json.dump(metrics, f, indent=2)\n",
        "with open(\"feature_columns.json\",\"w\") as f: json.dump(FEATURES, f, indent=2)\n",
        "\n",
        "print(\"Saved: gim_tree_model.joblib, metrics.json, feature_columns.json, fig_avp.png, fig_importance.png\")\n",
        "\n",
        "# Download to your machine (optional)\n",
        "from google.colab import files\n",
        "for f in [\"gim_tree_model.joblib\", \"metrics.json\", \"feature_columns.json\", \"fig_avp.png\", \"fig_importance.png\"]:\n",
        "    files.download(f)\n"
      ],
      "id": "save"
    },
    {
      "cell_type": "code",
      "execution_count": 11,
      "metadata": {
        "id": "whatif",
        "outputId": "361687ab-7638-4a40-cbf3-bbfbcd40918b",
        "colab": {
          "base_uri": "https://localhost:8080/"
        }
      },
      "outputs": [
        {
          "output_type": "execute_result",
          "data": {
            "text/plain": [
              "42.11"
            ]
          },
          "metadata": {},
          "execution_count": 11
        }
      ],
      "source": [
        "def predict_tomorrow_tree(\n",
        "    cooked_kg,\n",
        "    event_type=\"None\",          # 'None','Exam','Holiday','Fest','Club Event'\n",
        "    sweet_type=\"Milk-based\",    # 'Milk-based','Fried','Halwa-type','Other'\n",
        "    temp_c=30.0, rain_mm=5.0, humidity=85,\n",
        "    model_bundle_path=\"gim_tree_model.joblib\", df_history=df2\n",
        "):\n",
        "    bundle = joblib.load(model_bundle_path)\n",
        "    model, cols = bundle[\"model\"], bundle[\"columns\"]\n",
        "    row = {\n",
        "        'cooked_kg': cooked_kg,\n",
        "        'temp_c': temp_c,\n",
        "        'rain_mm': rain_mm,\n",
        "        'humidity': humidity,\n",
        "        'is_weekend': int((df_history['date'].iloc[-1] + pd.Timedelta(days=1)).dayofweek >= 5),\n",
        "        'is_exam':    int(event_type == 'Exam'),\n",
        "        'is_holiday': int(event_type == 'Holiday'),\n",
        "        'is_fest':    int(event_type == 'Fest'),\n",
        "        'sweet_milk':  int(sweet_type == 'Milk-based'),\n",
        "        'sweet_fried': int(sweet_type == 'Fried'),\n",
        "        'sweet_halwa': int(sweet_type == 'Halwa-type'),\n",
        "        'yesterday_waste': float(df_history['food_waste_kg'].iloc[-1]),\n",
        "    }\n",
        "    X_row = pd.DataFrame([row])[cols]\n",
        "    return float(model.predict(X_row)[0])\n",
        "\n",
        "# Example:\n",
        "predict_tomorrow_tree(\n",
        "    cooked_kg=410,\n",
        "    event_type=\"Exam\",\n",
        "    sweet_type=\"Fried\",\n",
        "    temp_c=29.5, rain_mm=8.0, humidity=86\n",
        ")\n"
      ],
      "id": "whatif"
    }
  ],
  "metadata": {
    "kernelspec": {
      "display_name": "Python 3",
      "language": "python",
      "name": "python3"
    },
    "language_info": {
      "name": "python",
      "version": "3.x"
    },
    "colab": {
      "provenance": []
    }
  },
  "nbformat": 4,
  "nbformat_minor": 5
}